{
 "cells": [
  {
   "cell_type": "code",
   "execution_count": 5,
   "id": "84f01d70",
   "metadata": {},
   "outputs": [],
   "source": [
    "#pip install opencv-python mediapipe pyautogui\n"
   ]
  },
  {
   "cell_type": "code",
   "execution_count": 1,
   "id": "3c3185a8",
   "metadata": {},
   "outputs": [],
   "source": [
    "import cv2\n",
    "import mediapipe as mp\n",
    "import pyautogui\n"
   ]
  },
  {
   "cell_type": "code",
   "execution_count": 2,
   "id": "84f9eb37",
   "metadata": {},
   "outputs": [],
   "source": [
    "cap = cv2.VideoCapture(0)\n",
    "hand_detector = mp.solutions.hands.Hands(max_num_hands=1)\n",
    "draw = mp.solutions.drawing_utils\n",
    "\n",
    "screen_width, screen_height = pyautogui.size()\n"
   ]
  },
  {
   "cell_type": "code",
   "execution_count": 3,
   "id": "0da5c0fa",
   "metadata": {},
   "outputs": [],
   "source": [
    "while True:\n",
    "    _, frame = cap.read()\n",
    "    frame = cv2.flip(frame, 1)  # mirror the image\n",
    "    frame_height, frame_width, _ = frame.shape\n",
    "\n",
    "    # Convert to RGB\n",
    "    rgb_frame = cv2.cvtColor(frame, cv2.COLOR_BGR2RGB)\n",
    "    output = hand_detector.process(rgb_frame)\n",
    "\n",
    "    hands = output.multi_hand_landmarks\n",
    "    if hands:\n",
    "        for hand in hands:\n",
    "            draw.draw_landmarks(frame, hand, mp.solutions.hands.HAND_CONNECTIONS)\n",
    "\n",
    "            landmarks = hand.landmark\n",
    "            index_finger_tip = landmarks[8]  # index finger tipq\n",
    "            thumb_tip = landmarks[4]        # thumb tip\n",
    "\n",
    "            # Convert coordinates\n",
    "            x = int(index_finger_tip.x * frame_width)\n",
    "            y = int(index_finger_tip.y * frame_height)\n",
    "\n",
    "            screen_x = screen_width / frame_width * x\n",
    "            screen_y = screen_height / frame_height * y\n",
    "\n",
    "            pyautogui.moveTo(screen_x, screen_y)\n",
    "\n",
    "            # Pinch detection (for click)\n",
    "            thumb_x = int(thumb_tip.x * frame_width)\n",
    "            thumb_y = int(thumb_tip.y * frame_height)\n",
    "            distance = ((x - thumb_x) ** 2 + (y - thumb_y) ** 2) ** 0.5\n",
    "\n",
    "            if distance < 40:\n",
    "                pyautogui.click()\n",
    "                cv2.circle(frame, (x, y), 15, (0, 255, 0), cv2.FILLED)\n",
    "\n",
    "    cv2.imshow(\"Virtual Mouse\", frame)\n",
    "    if cv2.waitKey(1) == ord('q'):\n",
    "        break\n",
    "\n",
    "cap.release()\n",
    "cv2.destroyAllWindows()\n"
   ]
  },
  {
   "cell_type": "code",
   "execution_count": null,
   "id": "0ad322b6",
   "metadata": {},
   "outputs": [],
   "source": []
  }
 ],
 "metadata": {
  "kernelspec": {
   "display_name": "Python 3",
   "language": "python",
   "name": "python3"
  },
  "language_info": {
   "codemirror_mode": {
    "name": "ipython",
    "version": 3
   },
   "file_extension": ".py",
   "mimetype": "text/x-python",
   "name": "python",
   "nbconvert_exporter": "python",
   "pygments_lexer": "ipython3",
   "version": "3.9.6"
  }
 },
 "nbformat": 4,
 "nbformat_minor": 5
}
